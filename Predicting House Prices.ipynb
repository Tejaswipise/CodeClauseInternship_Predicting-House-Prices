{
 "cells": [
  {
   "cell_type": "code",
   "execution_count": 283,
   "id": "5a9a8ba2-c567-48ff-afb2-9e11040e04ba",
   "metadata": {},
   "outputs": [
    {
     "name": "stdout",
     "output_type": "stream",
     "text": [
      "C:\\Housing Price Prediction Dataset\n"
     ]
    }
   ],
   "source": [
    "import os\n",
    "print(os.getcwd())"
   ]
  },
  {
   "cell_type": "markdown",
   "id": "051c42f6-816b-48ca-afdc-17468f7898aa",
   "metadata": {},
   "source": [
    "# Changing Directory"
   ]
  },
  {
   "cell_type": "code",
   "execution_count": 285,
   "id": "501ab5ff-8268-485c-994c-e1f9510f3953",
   "metadata": {},
   "outputs": [],
   "source": [
    "os.chdir(r\"C:\\Housing Price Prediction Dataset\")"
   ]
  },
  {
   "cell_type": "markdown",
   "id": "0293d151-cb6d-4eb2-b8e9-1a386156cd87",
   "metadata": {},
   "source": [
    "# Importing Libraries"
   ]
  },
  {
   "cell_type": "code",
   "execution_count": 287,
   "id": "54f3a389-4f2d-455d-a36c-c8d9f09dd614",
   "metadata": {},
   "outputs": [],
   "source": [
    "import pandas as pd\n",
    "import numpy as np\n",
    "import matplotlib.pylab as plt\n",
    "import seaborn as sns\n",
    "import plotly.express as px\n",
    "import sklearn\n",
    "from sklearn.model_selection import train_test_split\n",
    "from sklearn.linear_model import LinearRegression\n",
    "from sklearn.metrics import mean_squared_error, r2_score"
   ]
  },
  {
   "cell_type": "markdown",
   "id": "355cdccd-672f-4b54-b812-0c18fc326976",
   "metadata": {},
   "source": [
    "# Data Collection"
   ]
  },
  {
   "cell_type": "code",
   "execution_count": 289,
   "id": "36d893a8-ad7c-4c38-8c72-91f6be5b81fa",
   "metadata": {},
   "outputs": [
    {
     "name": "stdout",
     "output_type": "stream",
     "text": [
      "['Housing.csv']\n"
     ]
    }
   ],
   "source": [
    "import os\n",
    "print(os.listdir(r'C:\\Housing Price Prediction Dataset'))"
   ]
  },
  {
   "cell_type": "code",
   "execution_count": 290,
   "id": "b263890b-849d-4a70-9987-cf838379d628",
   "metadata": {},
   "outputs": [],
   "source": [
    "house=pd.read_csv('Housing.csv')"
   ]
  },
  {
   "cell_type": "markdown",
   "id": "942de50a-aa56-4d99-b3fb-a16792f3d6c3",
   "metadata": {},
   "source": [
    "# Inspecting data"
   ]
  },
  {
   "cell_type": "code",
   "execution_count": 292,
   "id": "126a948c-1ba2-4f20-9774-52a023985e26",
   "metadata": {},
   "outputs": [
    {
     "data": {
      "text/plain": [
       "(545, 13)"
      ]
     },
     "execution_count": 292,
     "metadata": {},
     "output_type": "execute_result"
    }
   ],
   "source": [
    "house.shape"
   ]
  },
  {
   "cell_type": "code",
   "execution_count": 293,
   "id": "c6f56ec1-a922-450e-8686-0e51bf4884db",
   "metadata": {},
   "outputs": [
    {
     "data": {
      "text/plain": [
       "<bound method NDFrame.describe of                 price    area(Sq.feet)   bedrooms  bathrooms  stories  \\\n",
       "0     $1,33,00,000.00              7420         4          2        3   \n",
       "1     $1,22,50,000.00              8960         4          4        4   \n",
       "2     $1,22,50,000.00              9960         3          2        2   \n",
       "3     $1,22,15,000.00              7500         4          2        2   \n",
       "4     $1,14,10,000.00              7420         4          1        2   \n",
       "..                 ...              ...       ...        ...      ...   \n",
       "540     $18,20,000.00              3000         2          1        1   \n",
       "541     $17,67,150.00              2400         3          1        1   \n",
       "542     $17,50,000.00              3620         2          1        1   \n",
       "543     $17,50,000.00              2910         3          1        1   \n",
       "544     $17,50,000.00              3850         3          1        2   \n",
       "\n",
       "    mainroad guestroom basement hotwaterheating airconditioning  parking  \\\n",
       "0        yes        no       no              no             yes        2   \n",
       "1        yes        no       no              no             yes        3   \n",
       "2        yes        no      yes              no              no        2   \n",
       "3        yes        no      yes              no             yes        3   \n",
       "4        yes       yes      yes              no             yes        2   \n",
       "..       ...       ...      ...             ...             ...      ...   \n",
       "540      yes        no      yes              no              no        2   \n",
       "541       no        no       no              no              no        0   \n",
       "542      yes        no       no              no              no        0   \n",
       "543       no        no       no              no              no        0   \n",
       "544      yes        no       no              no              no        0   \n",
       "\n",
       "    prefarea furnishingstatus  \n",
       "0        yes        furnished  \n",
       "1         no        furnished  \n",
       "2        yes   semi-furnished  \n",
       "3        yes        furnished  \n",
       "4         no        furnished  \n",
       "..       ...              ...  \n",
       "540       no      unfurnished  \n",
       "541       no   semi-furnished  \n",
       "542       no      unfurnished  \n",
       "543       no        furnished  \n",
       "544       no      unfurnished  \n",
       "\n",
       "[545 rows x 13 columns]>"
      ]
     },
     "execution_count": 293,
     "metadata": {},
     "output_type": "execute_result"
    }
   ],
   "source": [
    "house.describe"
   ]
  },
  {
   "cell_type": "code",
   "execution_count": 294,
   "id": "6cdf558a-6e47-4011-ab4a-c73edd38ca27",
   "metadata": {},
   "outputs": [
    {
     "name": "stdout",
     "output_type": "stream",
     "text": [
      "              price    area(Sq.feet)   bedrooms  bathrooms  stories mainroad  \\\n",
      "0   $1,33,00,000.00              7420         4          2        3      yes   \n",
      "1   $1,22,50,000.00              8960         4          4        4      yes   \n",
      "2   $1,22,50,000.00              9960         3          2        2      yes   \n",
      "3   $1,22,15,000.00              7500         4          2        2      yes   \n",
      "4   $1,14,10,000.00              7420         4          1        2      yes   \n",
      "\n",
      "  guestroom basement hotwaterheating airconditioning  parking prefarea  \\\n",
      "0        no       no              no             yes        2      yes   \n",
      "1        no       no              no             yes        3       no   \n",
      "2        no      yes              no              no        2      yes   \n",
      "3        no      yes              no             yes        3      yes   \n",
      "4       yes      yes              no             yes        2       no   \n",
      "\n",
      "  furnishingstatus  \n",
      "0        furnished  \n",
      "1        furnished  \n",
      "2   semi-furnished  \n",
      "3        furnished  \n",
      "4        furnished  \n"
     ]
    }
   ],
   "source": [
    "print(house.head())"
   ]
  },
  {
   "cell_type": "markdown",
   "id": "12a84304-af64-4f51-97ad-6bb0e0f594aa",
   "metadata": {},
   "source": [
    "# Data Cleaning Processing"
   ]
  },
  {
   "cell_type": "code",
   "execution_count": 296,
   "id": "861b47cf-22b1-408f-865e-1fe8697e35fa",
   "metadata": {},
   "outputs": [],
   "source": [
    "house.columns = house.columns.str.strip().str.lower()"
   ]
  },
  {
   "cell_type": "code",
   "execution_count": 297,
   "id": "01ad44ed-7d60-4ede-8658-b49198473524",
   "metadata": {},
   "outputs": [],
   "source": [
    "# Step 1: Convert to string in case of mixed types\n",
    "house['price'] = house['price'].astype(str)\n",
    "\n",
    "# Step 2: Remove dollar sign and commas using raw string\n",
    "house['price'] = house['price'].str.replace(r'[\\$,]', '', regex=True)\n",
    "\n",
    "# Step 3: Remove whitespace\n",
    "house['price'] = house['price'].str.strip()\n",
    "\n",
    "# Step 4: Convert to float\n",
    "house['price'] = house['price'].astype(float)"
   ]
  },
  {
   "cell_type": "code",
   "execution_count": 298,
   "id": "a34f1250-36d7-4dac-bafc-cfdd1cd285a1",
   "metadata": {},
   "outputs": [
    {
     "name": "stdout",
     "output_type": "stream",
     "text": [
      "0    13300000.0\n",
      "1    12250000.0\n",
      "2    12250000.0\n",
      "3    12215000.0\n",
      "4    11410000.0\n",
      "Name: price, dtype: float64\n",
      "float64\n"
     ]
    }
   ],
   "source": [
    "print(house['price'].head())\n",
    "print(house['price'].dtype)"
   ]
  },
  {
   "cell_type": "code",
   "execution_count": 299,
   "id": "4c7c6cd7-caff-4abf-9c52-4ba193b7705b",
   "metadata": {},
   "outputs": [],
   "source": [
    "house = house.dropna()"
   ]
  },
  {
   "cell_type": "code",
   "execution_count": 300,
   "id": "ede925cc-1419-4d9d-8d6b-b0e2b77f3f55",
   "metadata": {},
   "outputs": [
    {
     "data": {
      "text/plain": [
       "(545, 13)"
      ]
     },
     "execution_count": 300,
     "metadata": {},
     "output_type": "execute_result"
    }
   ],
   "source": [
    "house.shape"
   ]
  },
  {
   "cell_type": "markdown",
   "id": "05e85c35-0532-444e-a18f-73cc8e566a71",
   "metadata": {},
   "source": [
    "## Encode Categorical Variables using binary mapping"
   ]
  },
  {
   "cell_type": "code",
   "execution_count": 302,
   "id": "81fde0d6-31e2-4899-bb2f-bcc2c2019822",
   "metadata": {},
   "outputs": [],
   "source": [
    "new = ['mainroad', 'guestroom', 'basement', \n",
    "               'hotwaterheating', 'airconditioning', 'prefarea']\n",
    "for i in new:\n",
    "    house[i] = house[i].map({'yes': 1, 'no': 0})\n"
   ]
  },
  {
   "cell_type": "markdown",
   "id": "9247e58a-0365-4fe0-b7fa-f82aef218c6b",
   "metadata": {},
   "source": [
    "## One-Hot Encode"
   ]
  },
  {
   "cell_type": "code",
   "execution_count": 304,
   "id": "7838ffa1-6941-40bb-8f77-8b14c79abf4d",
   "metadata": {},
   "outputs": [],
   "source": [
    "house = pd.get_dummies(house, columns=['furnishingstatus'], drop_first=True)"
   ]
  },
  {
   "cell_type": "code",
   "execution_count": 305,
   "id": "9ad4b14b-3184-45d9-b076-1165de3ca65e",
   "metadata": {},
   "outputs": [
    {
     "data": {
      "text/html": [
       "<div>\n",
       "<style scoped>\n",
       "    .dataframe tbody tr th:only-of-type {\n",
       "        vertical-align: middle;\n",
       "    }\n",
       "\n",
       "    .dataframe tbody tr th {\n",
       "        vertical-align: top;\n",
       "    }\n",
       "\n",
       "    .dataframe thead th {\n",
       "        text-align: right;\n",
       "    }\n",
       "</style>\n",
       "<table border=\"1\" class=\"dataframe\">\n",
       "  <thead>\n",
       "    <tr style=\"text-align: right;\">\n",
       "      <th></th>\n",
       "      <th>price</th>\n",
       "      <th>area(sq.feet)</th>\n",
       "      <th>bedrooms</th>\n",
       "      <th>bathrooms</th>\n",
       "      <th>stories</th>\n",
       "      <th>mainroad</th>\n",
       "      <th>guestroom</th>\n",
       "      <th>basement</th>\n",
       "      <th>hotwaterheating</th>\n",
       "      <th>airconditioning</th>\n",
       "      <th>parking</th>\n",
       "      <th>prefarea</th>\n",
       "      <th>furnishingstatus_semi-furnished</th>\n",
       "      <th>furnishingstatus_unfurnished</th>\n",
       "    </tr>\n",
       "  </thead>\n",
       "  <tbody>\n",
       "    <tr>\n",
       "      <th>0</th>\n",
       "      <td>13300000.0</td>\n",
       "      <td>7420</td>\n",
       "      <td>4</td>\n",
       "      <td>2</td>\n",
       "      <td>3</td>\n",
       "      <td>1</td>\n",
       "      <td>0</td>\n",
       "      <td>0</td>\n",
       "      <td>0</td>\n",
       "      <td>1</td>\n",
       "      <td>2</td>\n",
       "      <td>1</td>\n",
       "      <td>False</td>\n",
       "      <td>False</td>\n",
       "    </tr>\n",
       "    <tr>\n",
       "      <th>1</th>\n",
       "      <td>12250000.0</td>\n",
       "      <td>8960</td>\n",
       "      <td>4</td>\n",
       "      <td>4</td>\n",
       "      <td>4</td>\n",
       "      <td>1</td>\n",
       "      <td>0</td>\n",
       "      <td>0</td>\n",
       "      <td>0</td>\n",
       "      <td>1</td>\n",
       "      <td>3</td>\n",
       "      <td>0</td>\n",
       "      <td>False</td>\n",
       "      <td>False</td>\n",
       "    </tr>\n",
       "    <tr>\n",
       "      <th>2</th>\n",
       "      <td>12250000.0</td>\n",
       "      <td>9960</td>\n",
       "      <td>3</td>\n",
       "      <td>2</td>\n",
       "      <td>2</td>\n",
       "      <td>1</td>\n",
       "      <td>0</td>\n",
       "      <td>1</td>\n",
       "      <td>0</td>\n",
       "      <td>0</td>\n",
       "      <td>2</td>\n",
       "      <td>1</td>\n",
       "      <td>True</td>\n",
       "      <td>False</td>\n",
       "    </tr>\n",
       "    <tr>\n",
       "      <th>3</th>\n",
       "      <td>12215000.0</td>\n",
       "      <td>7500</td>\n",
       "      <td>4</td>\n",
       "      <td>2</td>\n",
       "      <td>2</td>\n",
       "      <td>1</td>\n",
       "      <td>0</td>\n",
       "      <td>1</td>\n",
       "      <td>0</td>\n",
       "      <td>1</td>\n",
       "      <td>3</td>\n",
       "      <td>1</td>\n",
       "      <td>False</td>\n",
       "      <td>False</td>\n",
       "    </tr>\n",
       "    <tr>\n",
       "      <th>4</th>\n",
       "      <td>11410000.0</td>\n",
       "      <td>7420</td>\n",
       "      <td>4</td>\n",
       "      <td>1</td>\n",
       "      <td>2</td>\n",
       "      <td>1</td>\n",
       "      <td>1</td>\n",
       "      <td>1</td>\n",
       "      <td>0</td>\n",
       "      <td>1</td>\n",
       "      <td>2</td>\n",
       "      <td>0</td>\n",
       "      <td>False</td>\n",
       "      <td>False</td>\n",
       "    </tr>\n",
       "    <tr>\n",
       "      <th>...</th>\n",
       "      <td>...</td>\n",
       "      <td>...</td>\n",
       "      <td>...</td>\n",
       "      <td>...</td>\n",
       "      <td>...</td>\n",
       "      <td>...</td>\n",
       "      <td>...</td>\n",
       "      <td>...</td>\n",
       "      <td>...</td>\n",
       "      <td>...</td>\n",
       "      <td>...</td>\n",
       "      <td>...</td>\n",
       "      <td>...</td>\n",
       "      <td>...</td>\n",
       "    </tr>\n",
       "    <tr>\n",
       "      <th>540</th>\n",
       "      <td>1820000.0</td>\n",
       "      <td>3000</td>\n",
       "      <td>2</td>\n",
       "      <td>1</td>\n",
       "      <td>1</td>\n",
       "      <td>1</td>\n",
       "      <td>0</td>\n",
       "      <td>1</td>\n",
       "      <td>0</td>\n",
       "      <td>0</td>\n",
       "      <td>2</td>\n",
       "      <td>0</td>\n",
       "      <td>False</td>\n",
       "      <td>True</td>\n",
       "    </tr>\n",
       "    <tr>\n",
       "      <th>541</th>\n",
       "      <td>1767150.0</td>\n",
       "      <td>2400</td>\n",
       "      <td>3</td>\n",
       "      <td>1</td>\n",
       "      <td>1</td>\n",
       "      <td>0</td>\n",
       "      <td>0</td>\n",
       "      <td>0</td>\n",
       "      <td>0</td>\n",
       "      <td>0</td>\n",
       "      <td>0</td>\n",
       "      <td>0</td>\n",
       "      <td>True</td>\n",
       "      <td>False</td>\n",
       "    </tr>\n",
       "    <tr>\n",
       "      <th>542</th>\n",
       "      <td>1750000.0</td>\n",
       "      <td>3620</td>\n",
       "      <td>2</td>\n",
       "      <td>1</td>\n",
       "      <td>1</td>\n",
       "      <td>1</td>\n",
       "      <td>0</td>\n",
       "      <td>0</td>\n",
       "      <td>0</td>\n",
       "      <td>0</td>\n",
       "      <td>0</td>\n",
       "      <td>0</td>\n",
       "      <td>False</td>\n",
       "      <td>True</td>\n",
       "    </tr>\n",
       "    <tr>\n",
       "      <th>543</th>\n",
       "      <td>1750000.0</td>\n",
       "      <td>2910</td>\n",
       "      <td>3</td>\n",
       "      <td>1</td>\n",
       "      <td>1</td>\n",
       "      <td>0</td>\n",
       "      <td>0</td>\n",
       "      <td>0</td>\n",
       "      <td>0</td>\n",
       "      <td>0</td>\n",
       "      <td>0</td>\n",
       "      <td>0</td>\n",
       "      <td>False</td>\n",
       "      <td>False</td>\n",
       "    </tr>\n",
       "    <tr>\n",
       "      <th>544</th>\n",
       "      <td>1750000.0</td>\n",
       "      <td>3850</td>\n",
       "      <td>3</td>\n",
       "      <td>1</td>\n",
       "      <td>2</td>\n",
       "      <td>1</td>\n",
       "      <td>0</td>\n",
       "      <td>0</td>\n",
       "      <td>0</td>\n",
       "      <td>0</td>\n",
       "      <td>0</td>\n",
       "      <td>0</td>\n",
       "      <td>False</td>\n",
       "      <td>True</td>\n",
       "    </tr>\n",
       "  </tbody>\n",
       "</table>\n",
       "<p>545 rows × 14 columns</p>\n",
       "</div>"
      ],
      "text/plain": [
       "          price  area(sq.feet)  bedrooms  bathrooms  stories  mainroad  \\\n",
       "0    13300000.0           7420         4          2        3         1   \n",
       "1    12250000.0           8960         4          4        4         1   \n",
       "2    12250000.0           9960         3          2        2         1   \n",
       "3    12215000.0           7500         4          2        2         1   \n",
       "4    11410000.0           7420         4          1        2         1   \n",
       "..          ...            ...       ...        ...      ...       ...   \n",
       "540   1820000.0           3000         2          1        1         1   \n",
       "541   1767150.0           2400         3          1        1         0   \n",
       "542   1750000.0           3620         2          1        1         1   \n",
       "543   1750000.0           2910         3          1        1         0   \n",
       "544   1750000.0           3850         3          1        2         1   \n",
       "\n",
       "     guestroom  basement  hotwaterheating  airconditioning  parking  prefarea  \\\n",
       "0            0         0                0                1        2         1   \n",
       "1            0         0                0                1        3         0   \n",
       "2            0         1                0                0        2         1   \n",
       "3            0         1                0                1        3         1   \n",
       "4            1         1                0                1        2         0   \n",
       "..         ...       ...              ...              ...      ...       ...   \n",
       "540          0         1                0                0        2         0   \n",
       "541          0         0                0                0        0         0   \n",
       "542          0         0                0                0        0         0   \n",
       "543          0         0                0                0        0         0   \n",
       "544          0         0                0                0        0         0   \n",
       "\n",
       "     furnishingstatus_semi-furnished  furnishingstatus_unfurnished  \n",
       "0                              False                         False  \n",
       "1                              False                         False  \n",
       "2                               True                         False  \n",
       "3                              False                         False  \n",
       "4                              False                         False  \n",
       "..                               ...                           ...  \n",
       "540                            False                          True  \n",
       "541                             True                         False  \n",
       "542                            False                          True  \n",
       "543                            False                         False  \n",
       "544                            False                          True  \n",
       "\n",
       "[545 rows x 14 columns]"
      ]
     },
     "execution_count": 305,
     "metadata": {},
     "output_type": "execute_result"
    }
   ],
   "source": [
    "house"
   ]
  },
  {
   "cell_type": "markdown",
   "id": "d9791b59-34b8-4b04-964b-691afd083242",
   "metadata": {},
   "source": [
    "## Selecting Features and Target"
   ]
  },
  {
   "cell_type": "code",
   "execution_count": 307,
   "id": "6883ca85-d7d6-491e-aceb-94b9f1386047",
   "metadata": {},
   "outputs": [],
   "source": [
    "Features = house[['area(sq.feet)' , 'bedrooms', 'bathrooms', 'stories', 'mainroad',\n",
    "        'guestroom', 'basement', 'hotwaterheating', 'airconditioning',\n",
    "        'parking', 'prefarea', 'furnishingstatus_semi-furnished',\n",
    "        'furnishingstatus_unfurnished']]\n",
    "Target = house['price']\n"
   ]
  },
  {
   "cell_type": "markdown",
   "id": "e65054ad-df81-4a86-90f0-d1048e414ebf",
   "metadata": {},
   "source": [
    "## Splitting Data"
   ]
  },
  {
   "cell_type": "code",
   "execution_count": 309,
   "id": "f22ce391-eaf7-4b76-bc33-4ba039e7aa13",
   "metadata": {},
   "outputs": [],
   "source": [
    "X_train, X_test, y_train, y_test = train_test_split(Features, Target, test_size=0.2, random_state=42)"
   ]
  },
  {
   "cell_type": "markdown",
   "id": "63575132-a20e-49fe-b265-ace4443be737",
   "metadata": {},
   "source": [
    "# Builidng Linear Regression Model"
   ]
  },
  {
   "cell_type": "code",
   "execution_count": 311,
   "id": "bca14fb6-9b12-4bf0-990c-9ab13fda57e7",
   "metadata": {},
   "outputs": [],
   "source": [
    "model = LinearRegression()\n",
    "model.fit(X_train, y_train)\n",
    "predictions = model.predict(X_test)"
   ]
  },
  {
   "cell_type": "markdown",
   "id": "8b557ee4-a50f-4948-b51b-412eb1979850",
   "metadata": {},
   "source": [
    "## Evaluate the model"
   ]
  },
  {
   "cell_type": "code",
   "execution_count": 313,
   "id": "5488f97b-30a9-4801-9719-4a8dcc43a829",
   "metadata": {},
   "outputs": [
    {
     "name": "stdout",
     "output_type": "stream",
     "text": [
      "Mean Squared Error: 1754318687330.6643\n",
      "R-squared: 0.6529242642153184\n"
     ]
    }
   ],
   "source": [
    "from sklearn.metrics import mean_squared_error, r2_score\n",
    "mse = mean_squared_error(y_test, predictions)\n",
    "r2 = r2_score(y_test, predictions)\n",
    "print(f'Mean Squared Error: {mse}')\n",
    "print(f'R-squared: {r2}')"
   ]
  },
  {
   "cell_type": "markdown",
   "id": "ecfb7023-f5da-40e1-94b0-d9b4fe0b53eb",
   "metadata": {},
   "source": [
    "# Visualizing the Results"
   ]
  },
  {
   "cell_type": "markdown",
   "id": "74b5cad9-e132-4f1c-93f4-a79b51a0c454",
   "metadata": {},
   "source": [
    "## 1.Actual vs. Predicted Prices:"
   ]
  },
  {
   "cell_type": "code",
   "execution_count": 316,
   "id": "5f00db8d-edf1-4991-8f76-befe49589266",
   "metadata": {},
   "outputs": [
    {
     "data": {
      "image/png": "[encoded data removed]",
      "text/plain": [
       "<Figure size 640x480 with 1 Axes>"
      ]
     },
     "metadata": {},
     "output_type": "display_data"
    }
   ],
   "source": [
    "import matplotlib.pyplot as plt\n",
    "plt.scatter(y_test, predictions)\n",
    "plt.xlabel('Actual Prices')\n",
    "plt.ylabel('Predicted Prices')\n",
    "plt.title('Actual vs. Predicted Prices')\n",
    "plt.show()"
   ]
  },
  {
   "cell_type": "markdown",
   "id": "de165013-b96a-40ed-934f-0b3d4c1c7ad3",
   "metadata": {},
   "source": [
    "## 2.Residuals Plot"
   ]
  },
  {
   "cell_type": "code",
   "execution_count": 318,
   "id": "a59b934e-c480-4348-889b-eaa1d1cbc63f",
   "metadata": {},
   "outputs": [
    {
     "data": {
      "image/png": "[encoded data removed]",
      "text/plain": [
       "<Figure size 640x480 with 1 Axes>"
      ]
     },
     "metadata": {},
     "output_type": "display_data"
    }
   ],
   "source": [
    "residuals = y_test - predictions\n",
    "plt.scatter(predictions, residuals)\n",
    "plt.xlabel('Predicted Prices')\n",
    "plt.ylabel('Residuals')\n",
    "plt.title('Residuals vs. Predicted Prices')\n",
    "plt.show()"
   ]
  }
 ],
 "metadata": {
  "kernelspec": {
   "display_name": "Python [conda env:base] *",
   "language": "python",
   "name": "conda-base-py"
  },
  "language_info": {
   "codemirror_mode": {
    "name": "ipython",
    "version": 3
   },
   "file_extension": ".py",
   "mimetype": "text/x-python",
   "name": "python",
   "nbconvert_exporter": "python",
   "pygments_lexer": "ipython3",
   "version": "3.12.7"
  }
 },
 "nbformat": 4,
 "nbformat_minor": 5
}
